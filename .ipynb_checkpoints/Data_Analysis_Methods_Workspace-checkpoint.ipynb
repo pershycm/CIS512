{
 "cells": [
  {
   "cell_type": "code",
   "execution_count": 1,
   "metadata": {},
   "outputs": [],
   "source": [
    "import numpy as np\n",
    "import pandas as pd\n",
    "import scipy.stats as stats\n",
    "import matplotlib as plt\n",
    "import math"
   ]
  },
  {
   "cell_type": "code",
   "execution_count": 38,
   "metadata": {},
   "outputs": [
    {
     "name": "stdout",
     "output_type": "stream",
     "text": [
      "40.50155\n",
      "32.3\n"
     ]
    }
   ],
   "source": [
    "np.random.seed(6)\n",
    "# Why do you seed a random number?  So you get the same results over and over again.\n",
    "\n",
    "#whole population\n",
    "population_ages1 = stats.poisson.rvs(loc=18, mu=35, size=150000) #mu = avg size = sample size loc=std dev\n",
    "population_ages2 = stats.poisson.rvs(loc=18, mu=10, size=150000)\n",
    "population_ages = np.concatenate((population_ages1, population_ages2)) #concatenate = mash together\n",
    "\n",
    "\n",
    "#sample from subset of that population\n",
    "min_ages1 = stats.poisson.rvs(loc=18, mu=30, size=30) #change avg but not std dev\n",
    "min_ages2 = stats.poisson.rvs(loc=18, mu=10, size=100)\n",
    "min_ages = np.concatenate((min_ages1, min_ages2))\n",
    "\n",
    "print( population_ages.mean() )\n",
    "print( min_ages.mean() )"
   ]
  },
  {
   "cell_type": "code",
   "execution_count": 39,
   "metadata": {},
   "outputs": [
    {
     "data": {
      "text/plain": [
       "Ttest_1sampResult(statistic=-10.704046598417447, pvalue=1.5883908410125876e-19)"
      ]
     },
     "execution_count": 39,
     "metadata": {},
     "output_type": "execute_result"
    }
   ],
   "source": [
    "#apply t-statistics\n",
    "#Single sample t-test: Let's see how MN fits in the overall population of the whole US\n",
    "stats.ttest_1samp(a=min_ages, popmean = population_ages.mean()) #if you don't know what this means, google ttest_1samp in scipy \n",
    "#statistic= number of std dev between what it should be, and the mean. pvalue should be below .05\n",
    "#Statistically significant if pvalue is less than 0.05"
   ]
  },
  {
   "cell_type": "code",
   "execution_count": 40,
   "metadata": {},
   "outputs": [
    {
     "name": "stdout",
     "output_type": "stream",
     "text": [
      "46.07692307692308\n"
     ]
    }
   ],
   "source": [
    "#2-sample t-test: Let's see if there is a difference between MN and WI\n",
    "np.random.seed(6) #Change the seed to change the significance of pvalue\n",
    "wisc1 = stats.poisson.rvs(loc=18, mu=33, size=100)#increase sample size to change significance of pvalue\n",
    "wisc2 = stats.poisson.rvs(loc=18, mu=13, size=30)\n",
    "wisc_ages = np.concatenate((wisc1, wisc2))\n",
    "\n",
    "print(wisc_ages.mean())"
   ]
  },
  {
   "cell_type": "code",
   "execution_count": 41,
   "metadata": {},
   "outputs": [
    {
     "data": {
      "text/plain": [
       "Ttest_indResult(statistic=11.789516395670137, pvalue=7.355309540341542e-26)"
      ]
     },
     "execution_count": 41,
     "metadata": {},
     "output_type": "execute_result"
    }
   ],
   "source": [
    "stats.ttest_ind(a=wisc_ages, b=min_ages, equal_var=False)"
   ]
  },
  {
   "cell_type": "code",
   "execution_count": 52,
   "metadata": {},
   "outputs": [
    {
     "data": {
      "text/html": [
       "<div>\n",
       "<style scoped>\n",
       "    .dataframe tbody tr th:only-of-type {\n",
       "        vertical-align: middle;\n",
       "    }\n",
       "\n",
       "    .dataframe tbody tr th {\n",
       "        vertical-align: top;\n",
       "    }\n",
       "\n",
       "    .dataframe thead th {\n",
       "        text-align: right;\n",
       "    }\n",
       "</style>\n",
       "<table border=\"1\" class=\"dataframe\">\n",
       "  <thead>\n",
       "    <tr style=\"text-align: right;\">\n",
       "      <th></th>\n",
       "      <th>weight_before</th>\n",
       "      <th>weight_after</th>\n",
       "      <th>weight_change</th>\n",
       "    </tr>\n",
       "  </thead>\n",
       "  <tbody>\n",
       "    <tr>\n",
       "      <th>count</th>\n",
       "      <td>35.000000</td>\n",
       "      <td>35.000000</td>\n",
       "      <td>35.000000</td>\n",
       "    </tr>\n",
       "    <tr>\n",
       "      <th>mean</th>\n",
       "      <td>98.394164</td>\n",
       "      <td>93.564667</td>\n",
       "      <td>-4.829497</td>\n",
       "    </tr>\n",
       "    <tr>\n",
       "      <th>std</th>\n",
       "      <td>26.620345</td>\n",
       "      <td>27.988154</td>\n",
       "      <td>4.952044</td>\n",
       "    </tr>\n",
       "    <tr>\n",
       "      <th>min</th>\n",
       "      <td>20.400443</td>\n",
       "      <td>7.666130</td>\n",
       "      <td>-13.420554</td>\n",
       "    </tr>\n",
       "    <tr>\n",
       "      <th>25%</th>\n",
       "      <td>84.653133</td>\n",
       "      <td>77.970613</td>\n",
       "      <td>-9.055756</td>\n",
       "    </tr>\n",
       "    <tr>\n",
       "      <th>50%</th>\n",
       "      <td>94.426740</td>\n",
       "      <td>89.317326</td>\n",
       "      <td>-4.540808</td>\n",
       "    </tr>\n",
       "    <tr>\n",
       "      <th>75%</th>\n",
       "      <td>117.869080</td>\n",
       "      <td>110.323975</td>\n",
       "      <td>-1.760827</td>\n",
       "    </tr>\n",
       "    <tr>\n",
       "      <th>max</th>\n",
       "      <td>152.483642</td>\n",
       "      <td>147.802001</td>\n",
       "      <td>5.783372</td>\n",
       "    </tr>\n",
       "  </tbody>\n",
       "</table>\n",
       "</div>"
      ],
      "text/plain": [
       "       weight_before  weight_after  weight_change\n",
       "count      35.000000     35.000000      35.000000\n",
       "mean       98.394164     93.564667      -4.829497\n",
       "std        26.620345     27.988154       4.952044\n",
       "min        20.400443      7.666130     -13.420554\n",
       "25%        84.653133     77.970613      -9.055756\n",
       "50%        94.426740     89.317326      -4.540808\n",
       "75%       117.869080    110.323975      -1.760827\n",
       "max       152.483642    147.802001       5.783372"
      ]
     },
     "execution_count": 52,
     "metadata": {},
     "output_type": "execute_result"
    }
   ],
   "source": [
    "#paired t-test\n",
    "np.random.seed(11)\n",
    "\n",
    "before = stats.norm.rvs(scale=30, loc=100, size=35)\n",
    "\n",
    "after = before + stats.norm.rvs(scale = 5, loc=-5, size=35)\n",
    "\n",
    "weight_df = pd.DataFrame({'weight_before': before,\n",
    "                         'weight_after': after,\n",
    "                         'weight_change': after-before})\n",
    "weight_df.describe()"
   ]
  },
  {
   "cell_type": "code",
   "execution_count": 49,
   "metadata": {},
   "outputs": [
    {
     "data": {
      "text/plain": [
       "Ttest_relResult(statistic=6.534426654158349, pvalue=3.493079563799927e-08)"
      ]
     },
     "execution_count": 49,
     "metadata": {},
     "output_type": "execute_result"
    }
   ],
   "source": [
    "#run paired t-test\n",
    "stats.ttest_rel(a=before, b=after)"
   ]
  },
  {
   "cell_type": "code",
   "execution_count": null,
   "metadata": {},
   "outputs": [],
   "source": []
  }
 ],
 "metadata": {
  "kernelspec": {
   "display_name": "Python 3",
   "language": "python",
   "name": "python3"
  },
  "language_info": {
   "codemirror_mode": {
    "name": "ipython",
    "version": 3
   },
   "file_extension": ".py",
   "mimetype": "text/x-python",
   "name": "python",
   "nbconvert_exporter": "python",
   "pygments_lexer": "ipython3",
   "version": "3.6.5"
  }
 },
 "nbformat": 4,
 "nbformat_minor": 2
}
